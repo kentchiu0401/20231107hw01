{
 "cells": [
  {
   "cell_type": "code",
   "execution_count": null,
   "metadata": {
    "id": "YvJPu8CF3Ngv"
   },
   "outputs": [],
   "source": [
    "from tools import get_soup"
   ]
  },
  {
   "cell_type": "code",
   "execution_count": null,
   "metadata": {
    "id": "M2135kIy3Ngy"
   },
   "outputs": [],
   "source": [
    "url = 'https://www.imdb.com/chart/moviemeter/'"
   ]
  },
  {
   "cell_type": "code",
   "execution_count": null,
   "metadata": {
    "collapsed": true,
    "id": "wKbUjLry3Ngy"
   },
   "outputs": [],
   "source": [
    "# tools.py 未加headers不行，加了就OK了；\n",
    "\n",
    "soup=get_soup(url)    #用網頁上文字，找找看有沒有在soup裡，確認OK\n",
    "soup"
   ]
  },
  {
   "cell_type": "code",
   "execution_count": null,
   "metadata": {
    "collapsed": true,
    "id": "r1_I0gUR3Ng0"
   },
   "outputs": [],
   "source": [
    "# 先試掠才來再用findall\n",
    "# 結果發現是字典格式（其實是json）\n",
    "# 用.text共前後的script標籤提掉\n",
    "mvs = soup.find('script', id='__NEXT_DATA__').text\n",
    "mvs"
   ]
  },
  {
   "cell_type": "code",
   "execution_count": null,
   "metadata": {
    "id": "Jq5zHB653Ng1"
   },
   "outputs": [],
   "source": [
    "type(mvs)"
   ]
  },
  {
   "cell_type": "code",
   "execution_count": null,
   "metadata": {
    "id": "reMsuUzX3Ng2"
   },
   "outputs": [],
   "source": [
    "# 轉做json，用dumps（注意，有s）\n",
    "# 愛編碼\n",
    "\n",
    "import json\n",
    "\n",
    "# 共str轉做dict\n",
    "dmvs=json.loads(mvs)\n"
   ]
  },
  {
   "cell_type": "code",
   "execution_count": null,
   "metadata": {
    "id": "3KPgPLeB3Ng2"
   },
   "outputs": [],
   "source": [
    "type(dmvs)"
   ]
  },
  {
   "cell_type": "code",
   "execution_count": null,
   "metadata": {
    "collapsed": true,
    "id": "Rs3j9gVW3Ng3"
   },
   "outputs": [],
   "source": [
    "# 用網頁kw像片名定位\n",
    "# 發見片的連結無佇dict內底，soup內底有\n",
    "# 問題是soup的href彼區無囥英語片名\n",
    "# 看片名的構成，發現是 imdb.com/title/{id}\n",
    "\n",
    "dmvs"
   ]
  },
  {
   "cell_type": "code",
   "execution_count": null,
   "metadata": {
    "id": "SA0n1oXR3Ng3"
   },
   "outputs": [],
   "source": [
    "# 試看結構\n",
    "\n",
    "dmvs['props']['pageProps']['initialRefinerQueryInfo']['queryContext']"
   ]
  },
  {
   "cell_type": "code",
   "execution_count": null,
   "metadata": {
    "collapsed": true,
    "id": "hILI4kCi3Ng3"
   },
   "outputs": [],
   "source": [
    "dmvs['props']['pageProps']"
   ]
  },
  {
   "cell_type": "code",
   "execution_count": null,
   "metadata": {
    "id": "yFcToEsZ3Ng4"
   },
   "outputs": [],
   "source": [
    "# 揣著有關係彼層\n",
    "data=dmvs['props']['pageProps']['pageData']['chartTitles']['edges']\n",
    "data"
   ]
  },
  {
   "cell_type": "code",
   "execution_count": null,
   "metadata": {
    "id": "5jtPSi0N3Ng4"
   },
   "outputs": [],
   "source": [
    "# 發現是list（佇dict內底的一个list元素）\n",
    "\n",
    "type(data)"
   ]
  },
  {
   "cell_type": "code",
   "execution_count": null,
   "metadata": {
    "collapsed": true,
    "id": "eBq161fQ3Ng4"
   },
   "outputs": [],
   "source": [
    "# list內底每一支片是一个字典\n",
    "data[0]"
   ]
  },
  {
   "cell_type": "code",
   "execution_count": null,
   "metadata": {
    "id": "i4eAOzad3Ng4"
   },
   "outputs": [],
   "source": [
    "# 攏總幾支片\n",
    "\n",
    "len(data)"
   ]
  },
  {
   "cell_type": "code",
   "execution_count": null,
   "metadata": {
    "id": "BdwstaCa3Ng5"
   },
   "outputs": [],
   "source": [
    "#本週排名\n",
    "cRank=data[0]['currentRank']\n",
    "cRank\n",
    "#上週排名\n",
    "if data[0]['meterRanking']['rankChange']['changeDirection']=='UP':\n",
    "    pRank=cRank+data[0]['meterRanking']['rankChange']['changeDirection']['difference']\n",
    "elif data[0]['meterRanking']['rankChange']['changeDirection']=='DOWN':\n",
    "    pRank=cRank-data[0]['meterRanking']['rankChange']['changeDirection']['difference']\n",
    "else:\n",
    "    pRank=cRank\n",
    "pRank\n",
    "#片名\n",
    "\n",
    "#連結"
   ]
  },
  {
   "cell_type": "code",
   "execution_count": null,
   "metadata": {
    "collapsed": true,
    "id": "6iHJBIDn3Ng5"
   },
   "outputs": [],
   "source": [
    "# 其他東西都在node之下\n",
    "\n",
    "data[0]['node']"
   ]
  },
  {
   "cell_type": "code",
   "execution_count": null,
   "metadata": {
    "id": "ygTmsp6w3Ng5"
   },
   "outputs": [],
   "source": [
    "#本週排名\n",
    "cRank=data[0]['currentRank']\n",
    "cRank\n",
    "#上週排名\n",
    "if data[0]['node']['meterRanking']['rankChange']['changeDirection']=='UP':\n",
    "    pRank=cRank+data[0]['node']['meterRanking']['rankChange']['changeDirection']['difference']\n",
    "elif data[0]['node']['meterRanking']['rankChange']['changeDirection']=='DOWN':\n",
    "    pRank=cRank-data[0]['node']['meterRanking']['rankChange']['changeDirection']['difference']\n",
    "else:\n",
    "    pRank=cRank\n",
    "pRank\n",
    "#片名\n",
    "\n",
    "#連結"
   ]
  },
  {
   "cell_type": "code",
   "execution_count": null,
   "metadata": {
    "collapsed": true,
    "id": "Bb-Pza1U3Ng5"
   },
   "outputs": [],
   "source": [
    "# 再觀察\n",
    "\n",
    "data[0]['node']['meterRanking']"
   ]
  },
  {
   "cell_type": "code",
   "execution_count": null,
   "metadata": {
    "id": "oyPXznHP3Ng5"
   },
   "outputs": [],
   "source": [
    "#上週排名\n",
    "if data[0]['node']['meterRanking']['rankChange']['changeDirection']=='UP':\n",
    "    pRank=cRank+data[0]['node']['meterRanking']['rankChange']['difference']\n",
    "elif data[0]['node']['meterRanking']['rankChange']['changeDirection']=='DOWN':\n",
    "    pRank=cRank-data[0]['node']['meterRanking']['rankChange']['difference']\n",
    "else:\n",
    "    pRank=cRank\n",
    "pRank\n"
   ]
  },
  {
   "cell_type": "code",
   "execution_count": null,
   "metadata": {
    "id": "0-mp5A2l3Ng5"
   },
   "outputs": [],
   "source": [
    "#片名\n",
    "title = data[0]['node']['originalTitleText']['text']\n",
    "title\n"
   ]
  },
  {
   "cell_type": "code",
   "execution_count": null,
   "metadata": {
    "id": "tJo6wbW23Ng6"
   },
   "outputs": [],
   "source": [
    "#連結\n",
    "num= data[0]['node']['id']\n",
    "num"
   ]
  },
  {
   "cell_type": "code",
   "execution_count": null,
   "metadata": {
    "id": "TcYZ__AP3Ng6"
   },
   "outputs": [],
   "source": [
    "#連結\n",
    "link = 'https://imdb.com/title/'+num\n",
    "print(link)\n",
    "# 試連成功"
   ]
  },
  {
   "cell_type": "code",
   "execution_count": null,
   "metadata": {
    "id": "FxeLu4dK3Ng6"
   },
   "outputs": [],
   "source": [
    "# 子頁：上映年、片長、類型、IMDb Rating、預告片連結、圖片連結\n",
    "# 上映年、IMDb Rating、類型、圖片連結 頂懸的資料結構就有，先揣\n",
    "#上映年\n",
    "year = data[0]['node']['releaseYear']['year']\n",
    "year\n"
   ]
  },
  {
   "cell_type": "code",
   "execution_count": null,
   "metadata": {
    "id": "ihDdyCVO3Ng6"
   },
   "outputs": [],
   "source": [
    "#IMDb Rating\n",
    "rating=data[0]['node']['ratingsSummary']['aggregateRating']\n",
    "rating\n"
   ]
  },
  {
   "cell_type": "code",
   "execution_count": null,
   "metadata": {
    "id": "NSh1LZv53Ng6"
   },
   "outputs": [],
   "source": [
    "#類型；本來取[2]，後來發現毋是逐齣攏有[2]，改取[0]\n",
    "genre=data[0]['node']['titleGenres']['genres'][0]['genre']['text']\n",
    "genre\n"
   ]
  },
  {
   "cell_type": "code",
   "execution_count": null,
   "metadata": {
    "id": "dTqqxSDs3Ng6"
   },
   "outputs": [],
   "source": [
    "#圖片連結\n",
    "pic=genre=data[0]['node']['primaryImage']['url']\n",
    "print(pic)"
   ]
  },
  {
   "cell_type": "code",
   "execution_count": null,
   "metadata": {
    "collapsed": true,
    "id": "hpy8sPlc3Ng7"
   },
   "outputs": [],
   "source": [
    "# 入去子頁揣賰的：片長、預告片連結\n",
    "\n",
    "subsoup=get_soup(link)\n",
    "subsoup"
   ]
  },
  {
   "cell_type": "code",
   "execution_count": null,
   "metadata": {
    "id": "7KRT1S4m3Ng7"
   },
   "outputs": [],
   "source": [
    "# 片長\n",
    "\n",
    "ul=subsoup.find('ul',class_='ipc-inline-list ipc-inline-list--show-dividers sc-afe43def-4 kdXikI baseAlt')\n",
    "length=ul.find_all('li',class_='ipc-inline-list__item')[2].text.strip()\n",
    "length"
   ]
  },
  {
   "cell_type": "code",
   "execution_count": null,
   "metadata": {
    "id": "suI2cBT03Ng7"
   },
   "outputs": [],
   "source": [
    "# 預告片連結\n",
    "prem=subsoup.find('a',class_='ipc-lockup-overlay ipc-focusable').get('href')\n",
    "prem"
   ]
  },
  {
   "cell_type": "code",
   "execution_count": null,
   "metadata": {
    "id": "nGFO0GY23Ng7"
   },
   "outputs": [],
   "source": [
    "# 預告片連結\n",
    "print('https://imdb.com'+prem)"
   ]
  },
  {
   "cell_type": "code",
   "execution_count": null,
   "metadata": {
    "id": "LWX8LwON3Ng8"
   },
   "outputs": [],
   "source": [
    "# 準備將資料組合做一个list結構\n",
    "\n",
    "\n",
    "#本週排名\n",
    "cRank=data[0]['currentRank']\n",
    "cRank\n",
    "\n",
    "#上週排名\n",
    "if data[0]['node']['meterRanking']['rankChange']['changeDirection']=='UP':\n",
    "    pRank=cRank+data[0]['node']['meterRanking']['rankChange']['difference']\n",
    "elif data[0]['node']['meterRanking']['rankChange']['changeDirection']=='DOWN':\n",
    "    pRank=cRank-data[0]['node']['meterRanking']['rankChange']['difference']\n",
    "else:\n",
    "    pRank=cRank\n",
    "pRank\n",
    "\n",
    "#片名\n",
    "title = data[0]['node']['originalTitleText']['text']\n",
    "title\n",
    "\n",
    "#連結\n",
    "num= data[0]['node']['id']\n",
    "num\n",
    "link = 'https://imdb.com/title/'+num\n",
    "print(link)\n",
    "\n",
    "#上映年\n",
    "year = data[0]['node']['releaseYear']['year']\n",
    "year\n",
    "\n",
    "#IMDb Rating\n",
    "rating=data[0]['node']['ratingsSummary']['aggregateRating']\n",
    "rating\n",
    "\n",
    "#類型\n",
    "genre=data[0]['node']['titleGenres']['genres'][0]['genre']['text']\n",
    "genre\n",
    "\n",
    "#圖片連結\n",
    "pic=genre=data[0]['node']['primaryImage']['url']\n",
    "print(pic)\n",
    "\n",
    "# 片長\n",
    "ul=subsoup.find('ul',class_='ipc-inline-list ipc-inline-list--show-dividers sc-afe43def-4 kdXikI baseAlt')\n",
    "length=ul.find_all('li',class_='ipc-inline-list__item')[2].text.strip()\n",
    "length\n",
    "\n",
    "# 預告片連結\n",
    "prem=subsoup.find('a',class_='ipc-lockup-overlay ipc-focusable').get('href')\n",
    "premlink = 'https://imdb.com'+prem"
   ]
  },
  {
   "cell_type": "code",
   "execution_count": null,
   "metadata": {
    "id": "a0DxsGTh3Ng8"
   },
   "outputs": [],
   "source": [
    "# 發現若有問題，攏是佇「片長」了後有問題，檢查結果，是「片長」彼位有時無「分級資訊」，所以會揣無[2]，愛用條件式判斷\n",
    "# 先試片長改寫佇有問題的第23齣會用得袂\n",
    "\n",
    "subsoup=get_soup('https://www.imdb.com/title/tt15654328/?ref_=chtmvm_t_23')\n",
    "ul=subsoup.find('ul',class_='ipc-inline-list ipc-inline-list--show-dividers sc-afe43def-4 kdXikI baseAlt')\n",
    "leng=ul.find_all('li',class_='ipc-inline-list__item')\n",
    "if len(leng)==3:\n",
    "    length=leng[2].text.strip()\n",
    "else:\n",
    "    length=leng[1].text.strip()\n",
    "print(length)"
   ]
  },
  {
   "cell_type": "code",
   "execution_count": null,
   "metadata": {
    "id": "_fvlKVfw3Ng8"
   },
   "outputs": [],
   "source": [
    "pop_movies = []\n",
    "\n",
    "for i in range(0,100):   #攏總一百齣，對0開始算，算頭無算尾\n",
    "\n",
    "# 把原來的[0]都換成[i]；中間攏加訊息，才袂攏毋知進度\n",
    "# 加try, except，才袂斷去\n",
    "    movie=[]\n",
    "\n",
    "    try:\n",
    "        print(f'這馬開始掠第{i+1}齣...')\n",
    "\n",
    "        # 本周排名\n",
    "        print(f'這馬咧掠第{i+1}齣目前排名！')\n",
    "        cRank=data[i]['currentRank']\n",
    "        movie.append(cRank)\n",
    "\n",
    "        # 上周排名\n",
    "        print(f'這馬咧掠第{i+1}齣進前的排名！')\n",
    "        if data[i]['node']['meterRanking']['rankChange']['changeDirection']=='UP':\n",
    "            pRank=cRank+data[0]['node']['meterRanking']['rankChange']['difference']\n",
    "        elif data[i]['node']['meterRanking']['rankChange']['changeDirection']=='DOWN':\n",
    "            pRank=cRank-data[i]['node']['meterRanking']['rankChange']['difference']\n",
    "        else:\n",
    "            pRank=cRank\n",
    "        movie.append(pRank)\n",
    "\n",
    "        #片名\n",
    "        print(f'這馬咧掠第{i+1}齣的片名！')\n",
    "        title = data[i]['node']['originalTitleText']['text']\n",
    "        movie.append(title)\n",
    "\n",
    "        #連結\n",
    "        print(f'這馬咧掠第{i+1}齣的連結！')\n",
    "        num= data[i]['node']['id']\n",
    "        link = 'https://imdb.com/title/'+num\n",
    "        movie.append(link)\n",
    "        # 入去囝頁的兩項用link入去，愛佇遮處理\n",
    "        subsoup=get_soup(link)\n",
    "        # 片長\n",
    "        # 發現若有問題，攏是佇「片長」了後有問題，檢查結果，是「片長」彼位有時無「分級資訊」，所以會揣無[2]，愛用條件式判斷\n",
    "        print(f'這馬咧掠第{i+1}齣的片長！')\n",
    "        ul=subsoup.find('ul',class_='ipc-inline-list ipc-inline-list--show-dividers sc-afe43def-4 kdXikI baseAlt')\n",
    "        leng=ul.find_all('li',class_='ipc-inline-list__item')\n",
    "        if len(leng)==3:\n",
    "            length=leng[2].text.strip()\n",
    "        else:\n",
    "            length=leng[1].text.strip()\n",
    "        movie.append(length)\n",
    "        # 預告片連結\n",
    "        print(f'這馬咧掠第{i+1}齣的預告片連結！')\n",
    "        prem=subsoup.find('a',class_='ipc-lockup-overlay ipc-focusable').get('href')\n",
    "        premlink = 'https://imdb.com'+prem\n",
    "        movie.append(premlink)\n",
    "\n",
    "        #上映年\n",
    "        print(f'這馬咧掠第{i+1}齣的發行年度！')\n",
    "        year = data[i]['node']['releaseYear']['year']\n",
    "        movie.append(year)\n",
    "\n",
    "        #IMDb Rating\n",
    "        print(f'這馬咧掠第{i+1}齣的評分！')\n",
    "        rating=data[i]['node']['ratingsSummary']['aggregateRating']\n",
    "        movie.append(rating)\n",
    "\n",
    "        #類型\n",
    "        print(f'這馬咧掠第{i+1}齣的類型！')\n",
    "        genre=data[i]['node']['titleGenres']['genres'][0]['genre']['text']\n",
    "        movie.append(genre)\n",
    "\n",
    "        #圖片連結\n",
    "        print(f'這馬咧掠第{i+1}齣的圖片連結！')\n",
    "        pic=genre=data[i]['node']['primaryImage']['url']\n",
    "        movie.append(pic)\n",
    "\n",
    "    except Exception as e:\n",
    "        print(f'第{i+1}齣有問題！',e)\n",
    "        pass\n",
    "\n",
    "    pop_movies.append(movie)"
   ]
  },
  {
   "cell_type": "code",
   "execution_count": null,
   "metadata": {
    "id": "cgtWZCZr3Ng9",
    "scrolled": true
   },
   "outputs": [],
   "source": [
    "import pandas as pd\n",
    "\n",
    "df = pd.DataFrame(pop_movies, columns=['current ranking','previous ranking','title','link','length','trailer','year','IMDb rating','genre','poster'])\n",
    "df"
   ]
  },
  {
   "cell_type": "code",
   "execution_count": null,
   "metadata": {
    "id": "h_aLeR973Ng9"
   },
   "outputs": [],
   "source": [
    "# 用今仔日的日期來寄檔名\n",
    "\n",
    "from datetime import datetime\n",
    "\n",
    "date=datetime.now().strftime('%Y-%m-%d')  #m愛細本字，因為大本字是指分鐘\n",
    "date\n",
    "\n",
    "df.to_csv(f'IMDb電影排行榜_{date}.csv',encoding='utf-8-sig')"
   ]
  }
 ],
 "metadata": {
  "colab": {
   "provenance": []
  },
  "kernelspec": {
   "display_name": "Python 3 (ipykernel)",
   "language": "python",
   "name": "python3"
  },
  "language_info": {
   "codemirror_mode": {
    "name": "ipython",
    "version": 3
   },
   "file_extension": ".py",
   "mimetype": "text/x-python",
   "name": "python",
   "nbconvert_exporter": "python",
   "pygments_lexer": "ipython3",
   "version": "3.11.4"
  },
  "vscode": {
   "interpreter": {
    "hash": "ab346aeb941d3eb22c315bdddbcd7a9399296d9e3feea520812b7600ca0cd9c8"
   }
  }
 },
 "nbformat": 4,
 "nbformat_minor": 1
}
